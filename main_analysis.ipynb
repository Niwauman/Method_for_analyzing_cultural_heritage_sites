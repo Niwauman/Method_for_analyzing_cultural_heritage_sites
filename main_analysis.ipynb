{
 "cells": [
  {
   "cell_type": "code",
   "execution_count": 1,
   "metadata": {},
   "outputs": [
    {
     "name": "stderr",
     "output_type": "stream",
     "text": [
      "[nltk_data] Downloading package stopwords to\n",
      "[nltk_data]     C:\\Users\\Way51\\AppData\\Roaming\\nltk_data...\n",
      "[nltk_data]   Package stopwords is already up-to-date!\n",
      "[nltk_data] Downloading package punkt_tab to\n",
      "[nltk_data]     C:\\Users\\Way51\\AppData\\Roaming\\nltk_data...\n",
      "[nltk_data]   Package punkt_tab is already up-to-date!\n",
      "h:\\Documents\\Python\\Risks_of_investing_in_cultural_heritage\\.venv\\Lib\\site-packages\\tqdm\\auto.py:21: TqdmWarning: IProgress not found. Please update jupyter and ipywidgets. See https://ipywidgets.readthedocs.io/en/stable/user_install.html\n",
      "  from .autonotebook import tqdm as notebook_tqdm\n"
     ]
    }
   ],
   "source": [
    "import pandas as pd\n",
    "import geopandas as gpd\n",
    "import osmnx as ox\n",
    "from tobler.util import h3fy\n",
    "\n",
    "from DataAnalysis import DataPreparation as DataPreparation\n",
    "from DataAnalysis import DataMethodPreparation as DataMethodPreparation\n",
    "from AssastmentMethod import AspectLaw as AspectLaw\n",
    "from AssastmentMethod import AspectPhysical as AspectPhysical\n",
    "from AssastmentMethod import AspectSpatial as AspectSpatial\n",
    "from AssastmentMethod import AspectEconomic as AspectEconomic\n",
    "from AssastmentMethod import General as General"
   ]
  },
  {
   "cell_type": "code",
   "execution_count": 3,
   "metadata": {},
   "outputs": [
    {
     "name": "stderr",
     "output_type": "stream",
     "text": [
      "100%|██████████| 975/975 [00:00<00:00, 4336.05it/s]\n"
     ]
    },
    {
     "name": "stdout",
     "output_type": "stream",
     "text": [
      "0    Вологодская область\n",
      "1    Вологодская область\n",
      "2    Вологодская область\n",
      "Name: Регион, dtype: object\n",
      "Всего объектов: 975\n",
      "Количество объектов с координатами: 292\n",
      "Количество объектов без координат: 683\n"
     ]
    }
   ],
   "source": [
    "# Загрузка исходного файла с ОКН\n",
    "heritage_origin = pd.read_csv('Example_files/All_heritage.csv')\n",
    "\n",
    "# Выборка объектов в нужном регионе\n",
    "REGION = 'Вологодская область'\n",
    "ch_region, ch_region_coor, ch_region_none = DataPreparation.separator_reestr(heritage_origin, REGION) # Общий датасет, ГДФ(что можно найти), ДФ без координат оставшиеся"
   ]
  },
  {
   "cell_type": "code",
   "execution_count": 4,
   "metadata": {},
   "outputs": [
    {
     "name": "stderr",
     "output_type": "stream",
     "text": [
      "h:\\Documents\\Python\\Risks_of_investing_in_cultural_heritage\\DataAnalysis.py:63: FutureWarning: Setting an item of incompatible dtype is deprecated and will raise an error in a future version of pandas. Value '35-164339' has dtype incompatible with float64, please explicitly cast to a compatible dtype first.\n",
      "  gdf.loc[i, 'учетный номер'] = desc\n"
     ]
    }
   ],
   "source": [
    "# Загрузка отчета о кадастровой оценке\n",
    "report = gpd.read_file('Example_files/buildings_report.geojson') \n",
    "report = DataPreparation.number_report(report)"
   ]
  },
  {
   "cell_type": "code",
   "execution_count": 5,
   "metadata": {},
   "outputs": [],
   "source": [
    "# Выборка необходимых столбцов для анализа\n",
    "ch_region = ch_region[['Номер в реестре', 'учетный номер', 'Объект', 'Регион', 'Полный адрес', 'Категория историко-культурного значения', 'Вид объекта', 'описание предмета охраны', 'Принадлежность к Юнеско', 'наименование документа', 'building_year', 'lat', 'lon', 'geometry']]\n",
    "report = report[['Номер в реестре','учетный номер', 'Кадастровый номер', 'Кадастровые номера ЗУ, в пределах которых расположен данный ОН', 'Кадастровые номера помещений в объекте недвижимости', 'Площадь, кв.м', 'Назначение здания', 'Год завершения строительства', 'Количество этажей (в том числе подземных)', 'Количество подземных этажей', 'Материал наружных стен', 'Класс конструктивной системы', 'Группа капитальности', 'Объект признан аварийным ', 'Функциональная группа', 'Подгруппа', 'usage', 'area', 'cad_cost', 'geometry']]\n",
    "\n",
    "# Преобразование столбцов в нужный формат\n",
    "ch_region['Номер в реестре'] = ch_region['Номер в реестре'].astype(str)\n",
    "ch_region['учетный номер'] = ch_region['учетный номер'].astype(str)"
   ]
  },
  {
   "cell_type": "code",
   "execution_count": 6,
   "metadata": {},
   "outputs": [],
   "source": [
    "# Разделение в зависимости от наличие информации\n",
    "report_1 = report[report['Номер в реестре'] != 0]\n",
    "report_2 = report[report['Номер в реестре'] == 0]\n",
    "\n",
    "# объединяем и удалаяем лишние стобцы\n",
    "gdf_merged_1 = pd.merge(report_1, ch_region, on='Номер в реестре', how='inner')\n",
    "gdf_merged_2 = pd.merge(report_2, ch_region, on='учетный номер', how='inner')\n",
    "\n",
    "gdf_merged = pd.concat([gdf_merged_1, gdf_merged_2], ignore_index=True)\n",
    "gdf_merged = gdf_merged.drop(['Номер в реестре_x', 'Номер в реестре_y', 'учетный номер_y', 'учетный номер_x'], axis = 1)"
   ]
  },
  {
   "cell_type": "code",
   "execution_count": 7,
   "metadata": {},
   "outputs": [],
   "source": [
    "for i in range(len(gdf_merged)):\n",
    "    if gdf_merged.loc[i, 'geometry_y'] != None:\n",
    "        gdf_merged.loc[i, 'geometry_y'] = gdf_merged.loc[i, 'geometry_y'].centroid # Если геометрия не пустая, то из полигона делаем точку\n",
    "    else:\n",
    "        gdf_merged.loc[i, 'geometry_y'] = gdf_merged.loc[i, 'geometry_x']\n",
    "gdf_merged.rename(columns={'geometry_y':'geometry'}, inplace = True)\n",
    "gdf_merged = gpd.GeoDataFrame(gdf_merged,geometry='geometry', crs='EPSG:4326')\n",
    "gdf_merged['geometry']=gdf_merged['geometry'].centroid"
   ]
  },
  {
   "cell_type": "code",
   "execution_count": 9,
   "metadata": {},
   "outputs": [],
   "source": [
    "# готовим ДФ для последующего анализа\n",
    "gdf_merged = DataMethodPreparation.start_all(gdf_merged)\n",
    "\n",
    "# добавляекм кадастровую стоимость\n",
    "cad_cost = pd.read_excel('Example_files/report_cost_1.xlsx')\n",
    "cad_cost = cad_cost[['Кадастровый номер','Аварийность объекта','Экономическое устаревание', 'Эффективный возраст', 'Срок экономической жизни, лет', 'Физический износ', 'Совокупный износ','Удельный показатель кадаcтровой стоимости объекта недвижимости, руб./кв.м', 'Кадастровая стоимость (при оценке), руб']]\n",
    "gdf_merged = pd.merge(gdf_merged, cad_cost, how='left', on='Кадастровый номер')\n",
    "gdf_merged = gdf_merged.drop('geometry_x', axis=1)"
   ]
  },
  {
   "cell_type": "code",
   "execution_count": 10,
   "metadata": {},
   "outputs": [],
   "source": [
    "# перенести в отдельный модуль\n",
    "def parcer_osm(region, tag_str, tag_def = True): #На первом месте указываем тег, на втором его значение по умолчанию выбираются все значения\n",
    "    tags = {tag_str: tag_def}\n",
    "    objects = ox.features.features_from_polygon(region.unary_union, tags)\n",
    "    return objects\n",
    "\n",
    "def data_osm(city):\n",
    "    region = ox.geocode_to_gdf(query=city).reset_index()\n",
    "    building_osm = parcer_osm(region,'building').reset_index()\n",
    "    building_osm = building_osm[building_osm['element_type'] != 'node'].reset_index()\n",
    "    try:\n",
    "        shop = parcer_osm(region,'shop').reset_index()\n",
    "    except:\n",
    "        print('Не найдены магазины')\n",
    "    try:\n",
    "        cafe = parcer_osm(region,'amenity', ['bar', 'cafe', 'fast_food', 'food_court', 'pub', 'restaurant']).reset_index()\n",
    "    except:\n",
    "        print('Не найдены точки питания')\n",
    "    try:\n",
    "        public_transport = parcer_osm(region,'public_transport').reset_index()\n",
    "    except:\n",
    "        print('Не найдены остановки общественного транспорта')\n",
    "    return(region, building_osm, shop, cafe, public_transport)"
   ]
  },
  {
   "cell_type": "code",
   "execution_count": 11,
   "metadata": {},
   "outputs": [],
   "source": [
    "# Скачиваем данные из OSM по двум исследуемым городам\n",
    "region, building_osm, shop, cafe, public_transport = data_osm('город Вологда')\n",
    "#region_t, building_osm_t, shop_t, cafe_t, public_transport_t = data_osm('город Тотьма')"
   ]
  },
  {
   "cell_type": "code",
   "execution_count": null,
   "metadata": {},
   "outputs": [],
   "source": [
    "# Создаем гексагоны для последующего анализа hex_area = 9.96 he\n",
    "hex_vologda = h3fy(region, resolution=9, clip=True, buffer=False, return_geoms=True).reset_index()"
   ]
  },
  {
   "cell_type": "code",
   "execution_count": 12,
   "metadata": {},
   "outputs": [],
   "source": [
    "# Выбираем объекты расположенные в городе Вологда\n",
    "heritage_vologda = gpd.overlay(gdf_merged, region, how='intersection')\n",
    "#heritage_totma = gpd.overlay(gdf_merged, region_t, how='intersection')"
   ]
  },
  {
   "cell_type": "code",
   "execution_count": 13,
   "metadata": {},
   "outputs": [],
   "source": [
    "# Дополнительная информация из викимапии\n",
    "wiki_gdf = pd.read_csv('Example_files/file_from_wiki_vologda.csv')\n",
    "wiki_gdf = gpd.GeoDataFrame(wiki_gdf, geometry=gpd.points_from_xy(wiki_gdf.lon, wiki_gdf.lat), crs='EPSG:4326')\n",
    "\n",
    "wiki_gdf = wiki_gdf.to_crs('EPSG:32637')\n",
    "heritage_vologda = heritage_vologda.to_crs('EPSG:32637')\n",
    "\n",
    "heritage_vologda['geometry'] = heritage_vologda['geometry'].buffer(20)\n",
    "heritage_vologda['arch_style']=''\n",
    "\n",
    "for i in range(len(heritage_vologda)):\n",
    "        # Выбор точек внутри полигона\n",
    "    points_within_polygon = wiki_gdf[wiki_gdf.geometry.within(heritage_vologda.geometry[i])]\n",
    "    # Группировка значений\n",
    "    grouped_values = points_within_polygon.groupby('Unnamed: 0')['arch_style'].apply(list).reset_index()\n",
    "    if grouped_values.empty != True:\n",
    "        heritage_vologda.loc[i, 'arch_style'] = grouped_values['arch_style'][0][0]\n",
    "    grouped_values['arch_style'] = ''\n",
    "\n",
    "for i in range(len(building_osm)):\n",
    "        # Выбор точек внутри полигона\n",
    "    points_within_polygon = wiki_gdf[wiki_gdf.geometry.within(building_osm.geometry[i])]\n",
    "    # Группировка значений\n",
    "    grouped_values = points_within_polygon.groupby('Unnamed: 0')['arch_style'].apply(list).reset_index()\n",
    "    if grouped_values.empty != True:\n",
    "        building_osm.loc[i, 'arch_style'] = grouped_values['arch_style'][0][0]\n",
    "    grouped_values['arch_style'] = ''\n",
    "\n",
    "\n"
   ]
  },
  {
   "cell_type": "code",
   "execution_count": 14,
   "metadata": {},
   "outputs": [],
   "source": [
    "heritage_vologda = AspectPhysical.start_all(heritage_vologda)\n",
    "heritage_vologda = AspectLaw.start_all(heritage_vologda)\n",
    "heritage_vologda = AspectEconomic.start_all(heritage_vologda)"
   ]
  },
  {
   "cell_type": "code",
   "execution_count": null,
   "metadata": {},
   "outputs": [],
   "source": [
    "heritage_vologda = AspectSpatial.start_all(heritage_vologda, shop, cafe, public_transport,building_osm)"
   ]
  },
  {
   "cell_type": "code",
   "execution_count": 21,
   "metadata": {},
   "outputs": [],
   "source": [
    "heritage_vologda = General.calculate_scores(heritage_vologda)\n",
    "heritage_vologda = General.risks_assastment(heritage_vologda)"
   ]
  },
  {
   "cell_type": "code",
   "execution_count": 23,
   "metadata": {},
   "outputs": [],
   "source": [
    "heritage_vologda['geometry'] = heritage_vologda['geometry'].centroid"
   ]
  },
  {
   "cell_type": "code",
   "execution_count": 25,
   "metadata": {},
   "outputs": [],
   "source": [
    "# Сохранение файла\n",
    "heritage_vologda.to_file('heritage_vologda.geojson')"
   ]
  }
 ],
 "metadata": {
  "kernelspec": {
   "display_name": ".venv",
   "language": "python",
   "name": "python3"
  },
  "language_info": {
   "codemirror_mode": {
    "name": "ipython",
    "version": 3
   },
   "file_extension": ".py",
   "mimetype": "text/x-python",
   "name": "python",
   "nbconvert_exporter": "python",
   "pygments_lexer": "ipython3",
   "version": "3.11.0"
  }
 },
 "nbformat": 4,
 "nbformat_minor": 2
}
