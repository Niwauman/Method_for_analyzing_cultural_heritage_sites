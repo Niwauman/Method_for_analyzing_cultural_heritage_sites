{
 "cells": [
  {
   "cell_type": "code",
   "execution_count": 1,
   "metadata": {},
   "outputs": [],
   "source": [
    "import pandas as pd\n",
    "import geopandas as gpd"
   ]
  },
  {
   "cell_type": "code",
   "execution_count": 5,
   "metadata": {},
   "outputs": [],
   "source": [
    "from tqdm import tqdm\n",
    "import re\n"
   ]
  },
  {
   "cell_type": "code",
   "execution_count": null,
   "metadata": {},
   "outputs": [],
   "source": [
    "import json\n",
    "import shapely\n",
    "import osmnx as ox"
   ]
  },
  {
   "cell_type": "code",
   "execution_count": null,
   "metadata": {},
   "outputs": [],
   "source": [
    "path_vol = \"H:/Documents/ITMO/VKR/Data/Vologda\""
   ]
  },
  {
   "cell_type": "code",
   "execution_count": 2,
   "metadata": {},
   "outputs": [],
   "source": [
    "class DataPreparation:\n",
    "    def year_finder(df):\n",
    "        for i in tqdm(range(len(df))):\n",
    "            if df.loc[i, 'дата создания'] == None or len(str(df.loc[i, 'дата создания'])) == 0:\n",
    "                df.loc[i, 'building_year'] = 0\n",
    "            else:\n",
    "                year = str(df.loc[i, 'дата создания'])\n",
    "                year_ = re.search('(\\d{4})', str(df.loc[i, 'дата создания']))\n",
    "                if year_ != None:\n",
    "                    year = int(year_.group())\n",
    "                elif re.search('XVIII', year) != None:\n",
    "                    year = 1750 \n",
    "                elif re.search('XVII', year) != None:\n",
    "                    year = 1650\n",
    "                elif re.search('XVI', year) != None:\n",
    "                    year = 1550\n",
    "                elif re.search('XV', year) != None:\n",
    "                    year = 1450\n",
    "                elif re.search('XIX', year) != None:\n",
    "                    year = 1850\n",
    "                elif re.search('XX', year) != None:\n",
    "                    year = 1910\n",
    "                elif re.search('XIV', year) != None:\n",
    "                    year = 1350\n",
    "                elif re.search('19', year) != None:\n",
    "                    year = 1910\n",
    "                else:\n",
    "                    year = 0\n",
    "            df.loc[i, 'building_year'] = int(year)\n",
    "        return df\n",
    "    \n",
    "    def separator_reestr(df, region):\n",
    "        heritage_df = df[df['Регион'] == region].reset_index ()\n",
    "        heritage_df = DataPreparation.year_finder(heritage_df)\n",
    "        print(heritage_df['Регион'].head(3))\n",
    "        # Разделение исходного ДФ на части с исходными координатами и без\n",
    "        heritage_coor = heritage_df.dropna(subset=['На карте']).reset_index()\n",
    "        heritage_none = heritage_df[heritage_df['На карте'].isna()].reset_index()\n",
    "        print(f'Всего объектов: {len(heritage_df)}')\n",
    "        print(f'Количество объектов с координатами: {len(heritage_coor)}')\n",
    "        print(f'Количество объектов без координат: {len(heritage_none)}')\n",
    "        for j in range(len(heritage_coor)):\n",
    "            heritage_coor.loc[j, 'lat'] = (str(heritage_coor.loc[j, 'На карте'])).split('[')[1].split(']')[0].split(',')[1]\n",
    "            heritage_coor.loc[j, 'lon'] = (str(heritage_coor.loc[j, 'На карте'])).split('[')[1].split(']')[0].split(',')[0]\n",
    "        heritage_coor = gpd.GeoDataFrame(heritage_coor, geometry=gpd.points_from_xy(heritage_coor.lon, heritage_coor.lat), crs = 'EPSG:4326')\n",
    "        heritage_df = pd.concat([heritage_coor, heritage_none], ignore_index=True)\n",
    "        heritage_gdf = gpd.GeoDataFrame(heritage_df, geometry='geometry', crs = 'EPSG:4326')\n",
    "        return heritage_gdf, heritage_coor, heritage_none\n",
    "        "
   ]
  },
  {
   "cell_type": "code",
   "execution_count": 3,
   "metadata": {},
   "outputs": [
    {
     "name": "stderr",
     "output_type": "stream",
     "text": [
      "C:\\Users\\Way51\\AppData\\Local\\Temp\\ipykernel_10552\\1288108848.py:2: DtypeWarning: Columns (1,50) have mixed types. Specify dtype option on import or set low_memory=False.\n",
      "  heritage_origin = pd.read_csv('Example_files/All_heritage.csv')\n"
     ]
    }
   ],
   "source": [
    "# Загрузка исходного файла с ОКН\n",
    "heritage_origin = pd.read_csv('Example_files/All_heritage.csv')"
   ]
  },
  {
   "cell_type": "code",
   "execution_count": 6,
   "metadata": {},
   "outputs": [
    {
     "name": "stderr",
     "output_type": "stream",
     "text": [
      "100%|██████████| 975/975 [00:00<00:00, 4209.48it/s]\n"
     ]
    },
    {
     "name": "stdout",
     "output_type": "stream",
     "text": [
      "0    Вологодская область\n",
      "1    Вологодская область\n",
      "2    Вологодская область\n",
      "Name: Регион, dtype: object\n",
      "Всего объектов: 975\n",
      "Количество объектов с координатами: 292\n",
      "Количество объектов без координат: 683\n"
     ]
    }
   ],
   "source": [
    "# Выборка объектов в нужном регионе\n",
    "REGION = 'Вологодская область'\n",
    "ch_region, ch_region_coor, ch_region_none = DataPreparation.separator_reestr(heritage_origin, REGION) # Общий датасет, ГДФ(что можно найти), ДФ без координат оставшиеся"
   ]
  }
 ],
 "metadata": {
  "kernelspec": {
   "display_name": ".venv",
   "language": "python",
   "name": "python3"
  },
  "language_info": {
   "codemirror_mode": {
    "name": "ipython",
    "version": 3
   },
   "file_extension": ".py",
   "mimetype": "text/x-python",
   "name": "python",
   "nbconvert_exporter": "python",
   "pygments_lexer": "ipython3",
   "version": "3.11.0"
  }
 },
 "nbformat": 4,
 "nbformat_minor": 2
}
